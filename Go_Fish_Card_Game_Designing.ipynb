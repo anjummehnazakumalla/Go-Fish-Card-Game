{
  "cells": [
    {
      "cell_type": "markdown",
      "metadata": {
        "id": "IomjkHgqwz2H"
      },
      "source": [
        "# DASC 5300, Fall 2023, University of Texas at Arlington\n",
        "# mini Project 3 \"Implementing the Go Fish Card Game in Python\"\n",
        "\n",
        "\n",
        "## **Academic Honesty**\n",
        "This assignment must be done individually and independently. You must implement the whole assignment by yourself. Academic dishonesty is not tolerated.\n",
        "\n",
        "## **Requirements**\n",
        "\n",
        "1.   When you work on this assignment, you should make a copy of this notebook in Google Colab. This can be done using the option `File > Save a copy in Drive` in Google Colab.\n",
        "\n",
        "2.  To submit your assignment, download your Colab into a .ipynb file. This\n",
        "can be done using the option `Download > Download .ipynb` in Google Colab. Submit the downloaded .ipynb file/ .zip into the Mini_Project3 entry in Canvas.\n"
      ]
    },
    {
      "cell_type": "markdown",
      "metadata": {
        "id": "7bt5YSaL3V9M"
      },
      "source": [
        "## **Description**\n",
        "\n",
        "Implementing the Go Fish card game using stacks and queues in Python. The program should simulate a game between two players, where each player draws cards from a central deck to collect sets of matching cards. The game ends when the deck is empty, and the player with the most sets at the end of the game wins. The program should use stacks to represent each player's hand and a queue to represent the central deck of cards. The game should be playable in the command-line interface, with the option to specify the number of players and the number of cards dealt to each player at the start of the game.\""
      ]
    },
    {
      "cell_type": "code",
      "execution_count": null,
      "metadata": {
        "colab": {
          "background_save": true,
          "base_uri": "https://localhost:8080/"
        },
        "id": "dVqrxkyg4nT-",
        "outputId": "975cd9e0-a40c-4d94-be8c-3632d4e55539"
      },
      "outputs": [
        {
          "name": "stdout",
          "output_type": "stream",
          "text": [
            "\n",
            "Player 1's turn:\n",
            "Your hand: [{'rank': '2', 'suit': 'Diamonds'}, {'rank': '10', 'suit': 'Clubs'}, {'rank': 'K', 'suit': 'Spades'}, {'rank': '2', 'suit': 'Clubs'}, {'rank': '6', 'suit': 'Spades'}, {'rank': '7', 'suit': 'Clubs'}, {'rank': '4', 'suit': 'Clubs'}]\n",
            "Player 2 doesn't have the card. Go Fish!\n",
            "You drew a 8 of Clubs.\n",
            "\n",
            "Player 2's turn:\n",
            "Your hand: [{'rank': '6', 'suit': 'Diamonds'}, {'rank': 'Q', 'suit': 'Diamonds'}, {'rank': '5', 'suit': 'Diamonds'}, {'rank': '9', 'suit': 'Clubs'}, {'rank': 'Q', 'suit': 'Clubs'}, {'rank': '3', 'suit': 'Clubs'}, {'rank': '10', 'suit': 'Spades'}]\n",
            "Player 1 has the card. You get another turn.\n",
            "\n",
            "Player 2's turn:\n",
            "Your hand: [{'rank': '6', 'suit': 'Spades'}, {'rank': '6', 'suit': 'Diamonds'}, {'rank': 'Q', 'suit': 'Diamonds'}, {'rank': '5', 'suit': 'Diamonds'}, {'rank': '9', 'suit': 'Clubs'}, {'rank': 'Q', 'suit': 'Clubs'}, {'rank': '3', 'suit': 'Clubs'}, {'rank': '10', 'suit': 'Spades'}]\n"
          ]
        }
      ],
      "source": [
        "from collections import deque\n",
        "import random\n",
        "\n",
        "def create_deck():\n",
        "    #Creating deck of cards\n",
        "    ranks = ['2', '3', '4', '5', '6', '7', '8', '9', '10', 'J', 'Q', 'K', 'A']\n",
        "    suits = ['Hearts', 'Diamonds', 'Clubs', 'Spades']\n",
        "    deck = [{'rank': rank, 'suit': suit} for rank in ranks for suit in suits]\n",
        "    random.shuffle(deck)\n",
        "    return deque(deck)\n",
        "\n",
        "def deal_cards(total_players):\n",
        "    #Dealing with 7 cards if 2 players, else if 3 or 4 players, dealing with 5 cards\n",
        "    if total_players == 2:\n",
        "        num_cards_per_player = 7\n",
        "    elif total_players in [3, 4]:\n",
        "        num_cards_per_player = 5\n",
        "    else:\n",
        "        raise ValueError(\"Unsupported number of players. Please choose 2, 3, or 4.\")\n",
        "\n",
        "    deck = create_deck()\n",
        "    hands = [deque() for _ in range(total_players)]\n",
        "\n",
        "    for _ in range(num_cards_per_player):\n",
        "        for player in range(total_players):\n",
        "            hands[player].append(deck.popleft())\n",
        "\n",
        "    return hands, deck\n",
        "\n",
        "def go_fish():\n",
        "    total_players = int(input(\"Enter the number of players (2-4): \"))\n",
        "    #Constraining the number of players\n",
        "    if total_players < 2 or total_players > 4:\n",
        "        print(\"Invalid number of players. Please choose 2, 3, or 4.\")\n",
        "        return\n",
        "\n",
        "    hands, deck = deal_cards(total_players)\n",
        "    pairs = 0\n",
        "\n",
        "    player = 0\n",
        "\n",
        "    while deck or any(hands):\n",
        "        print(f\"\\nPlayer {player + 1}'s turn:\")\n",
        "        print(f\"Your hand: {list(hands[player])}\")\n",
        "        #Set of all different ranks of cards, the current player has\n",
        "        valid_ranks = {card['rank'] for card in hands[player]}\n",
        "        #If the cards are empty, GAME OVER!\n",
        "        if not valid_ranks:\n",
        "            print(\"Your hand is empty. Game over!\")\n",
        "            break\n",
        "        #Showing the choice of cards to ask from the other player\n",
        "        rank_to_ask = input(f\"Ask a player for a specific rank {valid_ranks} (e.g., '3'): \")\n",
        "\n",
        "        another_turn = False\n",
        "        #If the requested card is with the other player, append the card into the current players hand and simultaneously removing from the responders player's hand\n",
        "        for other_player in range(total_players):\n",
        "            if other_player != player and hands[other_player]:\n",
        "                if any(card['rank'] == rank_to_ask for card in hands[other_player]):\n",
        "                    print(f\"Player {other_player + 1} has the card. You get another turn.\")\n",
        "                    #Checking if the requested card is matching with the cards of the other player\n",
        "                    matching_cards = [card for card in hands[other_player] if card['rank'] == rank_to_ask]\n",
        "                    hands[player].extendleft(matching_cards)\n",
        "                    hands[other_player] = deque(card for card in hands[other_player] if card not in matching_cards)\n",
        "                    pairs += 1\n",
        "                    #If true, then the same player gets another turn\n",
        "                    another_turn = True\n",
        "                    break\n",
        "                else:\n",
        "                    print(f\"Player {other_player + 1} doesn't have the card. Go Fish!\")\n",
        "        #Drawing a card from the queue of central deck of cards\n",
        "        if not another_turn and deck and rank_to_ask in valid_ranks:\n",
        "            drawn_card = deck.popleft()\n",
        "            hands[player].appendleft(drawn_card)\n",
        "            print(f\"You drew a {drawn_card['rank']} of {drawn_card['suit']}.\")\n",
        "\n",
        "        # If another turn, the same player requests for the card; otherwise, the next player proceeds\n",
        "        if not another_turn:\n",
        "            player = (player + 1) % total_players\n",
        "\n",
        "    print(\"\\nGame over!\")\n",
        "    print(f\"Pairs collected by each player: {[len(player_hand) // 2 for player_hand in hands]}\")\n",
        "    print(f\"The winner is Player {hands.index(max(hands, key=len)) + 1}!\")\n",
        "\n",
        "if __name__ == \"__main__\":\n",
        "    go_fish()\n"
      ]
    }
  ],
  "metadata": {
    "colab": {
      "provenance": []
    },
    "kernelspec": {
      "display_name": "Python 3",
      "name": "python3"
    },
    "language_info": {
      "name": "python"
    }
  },
  "nbformat": 4,
  "nbformat_minor": 0
}